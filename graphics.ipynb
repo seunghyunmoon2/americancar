{
 "cells": [
  {
   "cell_type": "code",
   "execution_count": 2,
   "metadata": {},
   "outputs": [
    {
     "name": "stdout",
     "output_type": "stream",
     "text": [
      "Collecting wordcloud\n",
      "  Downloading wordcloud-1.8.0-cp36-cp36m-manylinux1_x86_64.whl (365 kB)\n",
      "\u001b[K     |████████████████████████████████| 365 kB 1.0 MB/s eta 0:00:01\n",
      "\u001b[?25hRequirement already satisfied: matplotlib in /home/lab14/.conda/envs/moon/lib/python3.6/site-packages (from wordcloud) (3.3.2)\n",
      "Requirement already satisfied: numpy>=1.6.1 in /home/lab14/.conda/envs/moon/lib/python3.6/site-packages (from wordcloud) (1.19.2)\n",
      "Requirement already satisfied: pillow in /home/lab14/.conda/envs/moon/lib/python3.6/site-packages (from wordcloud) (7.2.0)\n",
      "Requirement already satisfied: cycler>=0.10 in /home/lab14/.conda/envs/moon/lib/python3.6/site-packages (from matplotlib->wordcloud) (0.10.0)\n",
      "Requirement already satisfied: python-dateutil>=2.1 in /home/lab14/.conda/envs/moon/lib/python3.6/site-packages (from matplotlib->wordcloud) (2.8.1)\n",
      "Requirement already satisfied: pyparsing!=2.0.4,!=2.1.2,!=2.1.6,>=2.0.3 in /home/lab14/.conda/envs/moon/lib/python3.6/site-packages (from matplotlib->wordcloud) (2.4.7)\n",
      "Requirement already satisfied: kiwisolver>=1.0.1 in /home/lab14/.conda/envs/moon/lib/python3.6/site-packages (from matplotlib->wordcloud) (1.2.0)\n",
      "Requirement already satisfied: certifi>=2020.06.20 in /home/lab14/.conda/envs/moon/lib/python3.6/site-packages (from matplotlib->wordcloud) (2020.6.20)\n",
      "Requirement already satisfied: six in /home/lab14/.conda/envs/moon/lib/python3.6/site-packages (from cycler>=0.10->matplotlib->wordcloud) (1.15.0)\n",
      "Installing collected packages: wordcloud\n",
      "Successfully installed wordcloud-1.8.0\n",
      "Note: you may need to restart the kernel to use updated packages.\n"
     ]
    }
   ],
   "source": [
    "pip install wordcloud"
   ]
  },
  {
   "cell_type": "code",
   "execution_count": 1,
   "metadata": {},
   "outputs": [],
   "source": [
    "import numpy as np\n",
    "import pandas as pd\n",
    "import os\n",
    "import matplotlib.pyplot as plt\n",
    "import seaborn as sns\n",
    "from wordcloud import WordCloud\n",
    "\n",
    "%matplotlib inline"
   ]
  },
  {
   "cell_type": "code",
   "execution_count": 2,
   "metadata": {},
   "outputs": [
    {
     "data": {
      "text/html": [
       "<div>\n",
       "<style scoped>\n",
       "    .dataframe tbody tr th:only-of-type {\n",
       "        vertical-align: middle;\n",
       "    }\n",
       "\n",
       "    .dataframe tbody tr th {\n",
       "        vertical-align: top;\n",
       "    }\n",
       "\n",
       "    .dataframe thead th {\n",
       "        text-align: right;\n",
       "    }\n",
       "</style>\n",
       "<table border=\"1\" class=\"dataframe\">\n",
       "  <thead>\n",
       "    <tr style=\"text-align: right;\">\n",
       "      <th></th>\n",
       "      <th>all_text</th>\n",
       "    </tr>\n",
       "  </thead>\n",
       "  <tbody>\n",
       "    <tr>\n",
       "      <th>0</th>\n",
       "      <td>서울 각 구별 자동차 브랜드와 비교*부동산스터디 게시판 운영가이드\\nhttps://...</td>\n",
       "    </tr>\n",
       "    <tr>\n",
       "      <th>1</th>\n",
       "      <td>픽업트럭 시장도 '후끈'…한국지엠 콜로라도로 도전장픽업트럭 시장도 '후끈'…한국지엠...</td>\n",
       "    </tr>\n",
       "    <tr>\n",
       "      <th>2</th>\n",
       "      <td>현대차가 해결했다..성능 업그레이드 OTA 불법현대차가 해결했다..성능 업그레이드 ...</td>\n",
       "    </tr>\n",
       "    <tr>\n",
       "      <th>3</th>\n",
       "      <td>자동차 헤드램프 습기,고장인가요?차량을 운행하다보면 차량 내부나 외부에 \\n습기가 ...</td>\n",
       "    </tr>\n",
       "    <tr>\n",
       "      <th>4</th>\n",
       "      <td>1986 Chevrolet Caprice Brougham1986 쉐보레 카프리스 브...</td>\n",
       "    </tr>\n",
       "    <tr>\n",
       "      <th>...</th>\n",
       "      <td>...</td>\n",
       "    </tr>\n",
       "    <tr>\n",
       "      <th>11159</th>\n",
       "      <td>자율 주행 자동차를 대상으로 한 위험 분석 및 Risk 평가 방안 1ADAS 능동형...</td>\n",
       "    </tr>\n",
       "    <tr>\n",
       "      <th>11160</th>\n",
       "      <td>nan입력 20200702 0753 미국의 전기자동차 기업인 테슬라가 시가총액 세계...</td>\n",
       "    </tr>\n",
       "    <tr>\n",
       "      <th>11161</th>\n",
       "      <td>대형 마트 주차장을 자동차 영화관으로 쓴다면코로나 바이러스 감염증19코로나19 확산...</td>\n",
       "    </tr>\n",
       "    <tr>\n",
       "      <th>11162</th>\n",
       "      <td>이번달부터는 운전자가 운전대를 잡지 않아도이번달부터는 운전자가 운전대를 잡지 않아도...</td>\n",
       "    </tr>\n",
       "    <tr>\n",
       "      <th>11163</th>\n",
       "      <td>끝없이 치솟고 있는 테슬라 주가feat Covid19Point 1 2020년 테슬라...</td>\n",
       "    </tr>\n",
       "  </tbody>\n",
       "</table>\n",
       "<p>11164 rows × 1 columns</p>\n",
       "</div>"
      ],
      "text/plain": [
       "                                                all_text\n",
       "0      서울 각 구별 자동차 브랜드와 비교*부동산스터디 게시판 운영가이드\\nhttps://...\n",
       "1      픽업트럭 시장도 '후끈'…한국지엠 콜로라도로 도전장픽업트럭 시장도 '후끈'…한국지엠...\n",
       "2      현대차가 해결했다..성능 업그레이드 OTA 불법현대차가 해결했다..성능 업그레이드 ...\n",
       "3      자동차 헤드램프 습기,고장인가요?차량을 운행하다보면 차량 내부나 외부에 \\n습기가 ...\n",
       "4      1986 Chevrolet Caprice Brougham1986 쉐보레 카프리스 브...\n",
       "...                                                  ...\n",
       "11159  자율 주행 자동차를 대상으로 한 위험 분석 및 Risk 평가 방안 1ADAS 능동형...\n",
       "11160  nan입력 20200702 0753 미국의 전기자동차 기업인 테슬라가 시가총액 세계...\n",
       "11161  대형 마트 주차장을 자동차 영화관으로 쓴다면코로나 바이러스 감염증19코로나19 확산...\n",
       "11162  이번달부터는 운전자가 운전대를 잡지 않아도이번달부터는 운전자가 운전대를 잡지 않아도...\n",
       "11163  끝없이 치솟고 있는 테슬라 주가feat Covid19Point 1 2020년 테슬라...\n",
       "\n",
       "[11164 rows x 1 columns]"
      ]
     },
     "execution_count": 2,
     "metadata": {},
     "output_type": "execute_result"
    }
   ],
   "source": [
    "awarness = pd.read_excel('awarness_blog&cafe.xlsx')\n",
    "awarness"
   ]
  },
  {
   "cell_type": "code",
   "execution_count": 6,
   "metadata": {},
   "outputs": [
    {
     "name": "stdout",
     "output_type": "stream",
     "text": [
      "<class 'pandas.core.frame.DataFrame'>\n",
      "RangeIndex: 11164 entries, 0 to 11163\n",
      "Data columns (total 1 columns):\n",
      " #   Column    Non-Null Count  Dtype \n",
      "---  ------    --------------  ----- \n",
      " 0   all_text  11164 non-null  object\n",
      "dtypes: object(1)\n",
      "memory usage: 87.3+ KB\n"
     ]
    }
   ],
   "source": [
    "awarness.info()"
   ]
  },
  {
   "cell_type": "code",
   "execution_count": 7,
   "metadata": {},
   "outputs": [
    {
     "name": "stdout",
     "output_type": "stream",
     "text": [
      "(11164, 1)\n",
      "(11164, 1)\n"
     ]
    }
   ],
   "source": [
    "print(awarness.shape)\n",
    "awarness.dropna()\n",
    "print(awarness.shape)"
   ]
  },
  {
   "cell_type": "code",
   "execution_count": 8,
   "metadata": {},
   "outputs": [
    {
     "data": {
      "text/plain": [
       "0         666\n",
       "1        1268\n",
       "2        1908\n",
       "3        1283\n",
       "4         359\n",
       "         ... \n",
       "11159    3119\n",
       "11160     779\n",
       "11161    1294\n",
       "11162    1585\n",
       "11163    2903\n",
       "Name: all_text, Length: 11164, dtype: int64"
      ]
     },
     "execution_count": 8,
     "metadata": {},
     "output_type": "execute_result"
    }
   ],
   "source": [
    "awarn_length = awarness['all_text'].astype(str).apply(len)\n",
    "awarn_length"
   ]
  },
  {
   "cell_type": "code",
   "execution_count": 9,
   "metadata": {},
   "outputs": [
    {
     "data": {
      "image/png": "[encoded data removed]",
      "text/plain": [
       "<Figure size 864x360 with 1 Axes>"
      ]
     },
     "metadata": {
      "needs_background": "light"
     },
     "output_type": "display_data"
    }
   ],
   "source": [
    "plt.figure(figsize=(12, 5))\n",
    "\n",
    "plt.hist(awarn_length, bins=200, alpha=0.5, color='r', label='words')\n",
    "plt.yscale('log', nonpositive='clip')\n",
    "\n",
    "plt.title('log scaled length of documents')\n",
    "\n",
    "plt.xlabel('length of documents')\n",
    "plt.ylabel('number of documents')\n",
    "\n",
    "plt.show()"
   ]
  },
  {
   "cell_type": "code",
   "execution_count": 10,
   "metadata": {},
   "outputs": [
    {
     "data": {
      "image/png": "[encoded data removed]",
      "text/plain": [
       "<Figure size 864x360 with 1 Axes>"
      ]
     },
     "metadata": {
      "needs_background": "light"
     },
     "output_type": "display_data"
    }
   ],
   "source": [
    "plt.figure(figsize=(12, 5))\n",
    "\n",
    "plt.hist(awarn_length, bins=200, alpha=0.5, color='r', label='words', ec='grey')\n",
    "plt.yscale('log', nonpositive='clip')\n",
    "\n",
    "plt.title('log scaled length of documents')\n",
    "\n",
    "plt.xlabel('length of documents')\n",
    "plt.ylabel('number of documents')\n",
    "\n",
    "plt.show()"
   ]
  },
  {
   "cell_type": "code",
   "execution_count": 14,
   "metadata": {},
   "outputs": [
    {
     "name": "stdout",
     "output_type": "stream",
     "text": [
      "최댓값 :32767\n",
      "최솟값 :5\n",
      "평균값 :2376.73\n",
      "표준편차 :2497.75\n",
      "중간값 :1775.5\n",
      "제1사분위 :1087.0\n",
      "제3사분위 :2843.0\n"
     ]
    }
   ],
   "source": [
    "print('최댓값 :{}'.format(np.max(awarn_length)))\n",
    "print('최솟값 :{}'.format(np.min(awarn_length)))\n",
    "print('평균값 :{:.2f}'.format(np.mean(awarn_length)))\n",
    "print('표준편차 :{:.2f}'.format(np.std(awarn_length)))\n",
    "print('중간값 :{}'.format(np.median(awarn_length)))\n",
    "print('제1사분위 :{}'.format(np.percentile(awarn_length, 25)))\n",
    "print('제3사분위 :{}'.format(np.percentile(awarn_length, 75)))"
   ]
  },
  {
   "cell_type": "code",
   "execution_count": 13,
   "metadata": {},
   "outputs": [
    {
     "data": {
      "text/plain": [
       "{'whiskers': [<matplotlib.lines.Line2D at 0x7f137b643b38>,\n",
       "  <matplotlib.lines.Line2D at 0x7f137b6435f8>],\n",
       " 'caps': [<matplotlib.lines.Line2D at 0x7f137b643ba8>,\n",
       "  <matplotlib.lines.Line2D at 0x7f137ba5fba8>],\n",
       " 'boxes': [<matplotlib.lines.Line2D at 0x7f137b679c18>],\n",
       " 'medians': [<matplotlib.lines.Line2D at 0x7f137ba5fa58>],\n",
       " 'fliers': [<matplotlib.lines.Line2D at 0x7f137bae0cf8>],\n",
       " 'means': [<matplotlib.lines.Line2D at 0x7f137b6ce940>]}"
      ]
     },
     "execution_count": 13,
     "metadata": {},
     "output_type": "execute_result"
    },
    {
     "data": {
      "image/png": "[encoded data removed]",
      "text/plain": [
       "<Figure size 360x360 with 1 Axes>"
      ]
     },
     "metadata": {
      "needs_background": "light"
     },
     "output_type": "display_data"
    }
   ],
   "source": [
    "plt.figure(figsize=(5,5))\n",
    "\n",
    "plt.boxplot(awarn_length,\n",
    "           labels=['counts'],\n",
    "           showmeans=True)"
   ]
  },
  {
   "cell_type": "code",
   "execution_count": 18,
   "metadata": {},
   "outputs": [
    {
     "name": "stdout",
     "output_type": "stream",
     "text": [
      "W: chmod 0700 of directory /var/lib/apt/lists/partial failed - SetupAPTPartialDirectory (1: Operation not permitted)\n",
      "E: Could not open lock file /var/lib/apt/lists/lock - open (13: Permission denied)\n",
      "E: Unable to lock directory /var/lib/apt/lists/\n",
      "W: Problem unlinking the file /var/cache/apt/pkgcache.bin - RemoveCaches (13: Permission denied)\n",
      "W: Problem unlinking the file /var/cache/apt/srcpkgcache.bin - RemoveCaches (13: Permission denied)\n",
      "E: Could not open lock file /var/lib/dpkg/lock-frontend - open (13: Permission denied)\n",
      "E: Unable to acquire the dpkg frontend lock (/var/lib/dpkg/lock-frontend), are you root?\n"
     ]
    }
   ],
   "source": [
    "!apt-get update -qq\n",
    "!apt-get install fonts-nanum* -qq"
   ]
  },
  {
   "cell_type": "markdown",
   "metadata": {},
   "source": [
    "# 워드클라우드는 코랩"
   ]
  },
  {
   "cell_type": "code",
   "execution_count": 3,
   "metadata": {},
   "outputs": [
    {
     "data": {
      "text/plain": [
       "0        123\n",
       "1        238\n",
       "2        425\n",
       "3        180\n",
       "4         57\n",
       "        ... \n",
       "11159    720\n",
       "11160    171\n",
       "11161    315\n",
       "11162    343\n",
       "11163    702\n",
       "Name: all_text, Length: 11164, dtype: int64"
      ]
     },
     "execution_count": 3,
     "metadata": {},
     "output_type": "execute_result"
    }
   ],
   "source": [
    "awarn_word_counts = awarness['all_text'].astype(str).apply(lambda x:len(x.split(' ')))\n",
    "awarn_word_counts"
   ]
  },
  {
   "cell_type": "code",
   "execution_count": 4,
   "metadata": {},
   "outputs": [
    {
     "data": {
      "text/plain": [
       "Text(0, 0.5, 'number of documents')"
      ]
     },
     "execution_count": 4,
     "metadata": {},
     "output_type": "execute_result"
    },
    {
     "data": {
      "image/png": "[encoded data removed]",
      "text/plain": [
       "<Figure size 1080x720 with 1 Axes>"
      ]
     },
     "metadata": {
      "needs_background": "light"
     },
     "output_type": "display_data"
    }
   ],
   "source": [
    "plt.figure(figsize=(15,10))\n",
    "plt.hist(awarn_word_counts, bins=50, facecolor='skyblue', label='documents')\n",
    "plt.title('log scaled histogram of word count in document')\n",
    "plt.yscale('log',nonpositive='clip')\n",
    "plt.legend()\n",
    "plt.xlabel('number of words', fontsize=15)\n",
    "plt.ylabel('number of documents', fontsize=15)"
   ]
  },
  {
   "cell_type": "code",
   "execution_count": 14,
   "metadata": {},
   "outputs": [
    {
     "data": {
      "text/plain": [
       "Text(0, 0.5, 'number of documents')"
      ]
     },
     "execution_count": 14,
     "metadata": {},
     "output_type": "execute_result"
    },
    {
     "data": {
      "image/png": "[encoded data removed]",
      "text/plain": [
       "<Figure size 864x360 with 1 Axes>"
      ]
     },
     "metadata": {
      "needs_background": "light"
     },
     "output_type": "display_data"
    }
   ],
   "source": [
    "plt.figure(figsize=(12,5))\n",
    "plt.hist(awarn_word_counts, bins=50, facecolor='skyblue', label='documents', ec='grey')\n",
    "plt.title('log scaled histogram of word count in document')\n",
    "plt.yscale('log',nonpositive='clip')\n",
    "plt.legend()\n",
    "plt.xlabel('number of words', fontsize=15)\n",
    "plt.ylabel('number of documents', fontsize=15)"
   ]
  },
  {
   "cell_type": "code",
   "execution_count": 22,
   "metadata": {},
   "outputs": [
    {
     "name": "stdout",
     "output_type": "stream",
     "text": [
      "최댓값 :13995\n",
      "최솟값 :2\n",
      "평균값 :522.73\n",
      "표준편차 :590.26\n",
      "중간값 :380.0\n",
      "제1사분위 :223.0\n",
      "제3사분위 :619.0\n"
     ]
    }
   ],
   "source": [
    "print('최댓값 :{}'.format(np.max(awarn_word_counts)))\n",
    "print('최솟값 :{}'.format(np.min(awarn_word_counts)))\n",
    "print('평균값 :{:.2f}'.format(np.mean(awarn_word_counts)))\n",
    "print('표준편차 :{:.2f}'.format(np.std(awarn_word_counts)))\n",
    "print('중간값 :{}'.format(np.median(awarn_word_counts)))\n",
    "print('제1사분위 :{}'.format(np.percentile(awarn_word_counts, 25)))\n",
    "print('제3사분위 :{}'.format(np.percentile(awarn_word_counts, 75)))"
   ]
  },
  {
   "cell_type": "code",
   "execution_count": 12,
   "metadata": {},
   "outputs": [
    {
     "data": {
      "text/plain": [
       "{'whiskers': [<matplotlib.lines.Line2D at 0x7f137c1460f0>,\n",
       "  <matplotlib.lines.Line2D at 0x7f137c146f28>],\n",
       " 'caps': [<matplotlib.lines.Line2D at 0x7f137c146c18>,\n",
       "  <matplotlib.lines.Line2D at 0x7f137c1466d8>],\n",
       " 'boxes': [<matplotlib.lines.Line2D at 0x7f137c1460b8>],\n",
       " 'medians': [<matplotlib.lines.Line2D at 0x7f137c146080>],\n",
       " 'fliers': [<matplotlib.lines.Line2D at 0x7f137c17c7b8>],\n",
       " 'means': [<matplotlib.lines.Line2D at 0x7f137c17c5f8>]}"
      ]
     },
     "execution_count": 12,
     "metadata": {},
     "output_type": "execute_result"
    },
    {
     "data": {
      "image/png": "[encoded data removed]",
      "text/plain": [
       "<Figure size 360x360 with 1 Axes>"
      ]
     },
     "metadata": {
      "needs_background": "light"
     },
     "output_type": "display_data"
    }
   ],
   "source": [
    "plt.figure(figsize=(5,5))\n",
    "\n",
    "plt.boxplot(awarn_word_counts,\n",
    "           labels=['counts'],\n",
    "           showmeans=True)"
   ]
  },
  {
   "cell_type": "code",
   "execution_count": null,
   "metadata": {},
   "outputs": [],
   "source": []
  }
 ],
 "metadata": {
  "kernelspec": {
   "display_name": "moon",
   "language": "python",
   "name": "moon"
  },
  "language_info": {
   "codemirror_mode": {
    "name": "ipython",
    "version": 3
   },
   "file_extension": ".py",
   "mimetype": "text/x-python",
   "name": "python",
   "nbconvert_exporter": "python",
   "pygments_lexer": "ipython3",
   "version": "3.6.12"
  }
 },
 "nbformat": 4,
 "nbformat_minor": 4
}
