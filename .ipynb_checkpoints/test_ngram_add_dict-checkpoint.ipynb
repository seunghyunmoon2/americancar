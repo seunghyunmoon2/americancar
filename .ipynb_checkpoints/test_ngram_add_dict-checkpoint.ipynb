{
 "cells": [
  {
   "cell_type": "code",
   "execution_count": 1,
   "metadata": {},
   "outputs": [],
   "source": [
    "import pandas as pd"
   ]
  },
  {
   "cell_type": "code",
   "execution_count": 2,
   "metadata": {},
   "outputs": [
    {
     "data": {
      "text/html": [
       "<div>\n",
       "<style scoped>\n",
       "    .dataframe tbody tr th:only-of-type {\n",
       "        vertical-align: middle;\n",
       "    }\n",
       "\n",
       "    .dataframe tbody tr th {\n",
       "        vertical-align: top;\n",
       "    }\n",
       "\n",
       "    .dataframe thead th {\n",
       "        text-align: right;\n",
       "    }\n",
       "</style>\n",
       "<table border=\"1\" class=\"dataframe\">\n",
       "  <thead>\n",
       "    <tr style=\"text-align: right;\">\n",
       "      <th></th>\n",
       "      <th>Unnamed: 0</th>\n",
       "      <th>0</th>\n",
       "    </tr>\n",
       "  </thead>\n",
       "  <tbody>\n",
       "    <tr>\n",
       "      <th>0</th>\n",
       "      <td>0</td>\n",
       "      <td>('픽업 트럭', 2549)</td>\n",
       "    </tr>\n",
       "    <tr>\n",
       "      <th>1</th>\n",
       "      <td>1</td>\n",
       "      <td>('사용 되다', 2005)</td>\n",
       "    </tr>\n",
       "    <tr>\n",
       "      <th>2</th>\n",
       "      <td>2</td>\n",
       "      <td>('자율 주행', 1683)</td>\n",
       "    </tr>\n",
       "    <tr>\n",
       "      <th>3</th>\n",
       "      <td>3</td>\n",
       "      <td>('진행 되다', 1207)</td>\n",
       "    </tr>\n",
       "    <tr>\n",
       "      <th>4</th>\n",
       "      <td>4</td>\n",
       "      <td>('출시 되다', 1196)</td>\n",
       "    </tr>\n",
       "    <tr>\n",
       "      <th>...</th>\n",
       "      <td>...</td>\n",
       "      <td>...</td>\n",
       "    </tr>\n",
       "    <tr>\n",
       "      <th>15120</th>\n",
       "      <td>15120</td>\n",
       "      <td>('기간 단축', 21)</td>\n",
       "    </tr>\n",
       "    <tr>\n",
       "      <th>15121</th>\n",
       "      <td>15121</td>\n",
       "      <td>('대다 벤틀리', 21)</td>\n",
       "    </tr>\n",
       "    <tr>\n",
       "      <th>15122</th>\n",
       "      <td>15122</td>\n",
       "      <td>('팔리다 이유', 21)</td>\n",
       "    </tr>\n",
       "    <tr>\n",
       "      <th>15123</th>\n",
       "      <td>15123</td>\n",
       "      <td>('모델 명과', 21)</td>\n",
       "    </tr>\n",
       "    <tr>\n",
       "      <th>15124</th>\n",
       "      <td>15124</td>\n",
       "      <td>('상황 고려', 21)</td>\n",
       "    </tr>\n",
       "  </tbody>\n",
       "</table>\n",
       "<p>15125 rows × 2 columns</p>\n",
       "</div>"
      ],
      "text/plain": [
       "       Unnamed: 0                0\n",
       "0               0  ('픽업 트럭', 2549)\n",
       "1               1  ('사용 되다', 2005)\n",
       "2               2  ('자율 주행', 1683)\n",
       "3               3  ('진행 되다', 1207)\n",
       "4               4  ('출시 되다', 1196)\n",
       "...           ...              ...\n",
       "15120       15120    ('기간 단축', 21)\n",
       "15121       15121   ('대다 벤틀리', 21)\n",
       "15122       15122   ('팔리다 이유', 21)\n",
       "15123       15123    ('모델 명과', 21)\n",
       "15124       15124    ('상황 고려', 21)\n",
       "\n",
       "[15125 rows x 2 columns]"
      ]
     },
     "execution_count": 2,
     "metadata": {},
     "output_type": "execute_result"
    }
   ],
   "source": [
    "ngram = pd.read_csv('./clean_csv/bigram_working_series.csv')\n",
    "ngram"
   ]
  },
  {
   "cell_type": "code",
   "execution_count": 3,
   "metadata": {},
   "outputs": [
    {
     "data": {
      "text/plain": [
       "0      ('픽업 트럭', 2549)\n",
       "1      ('사용 되다', 2005)\n",
       "2      ('자율 주행', 1683)\n",
       "3      ('진행 되다', 1207)\n",
       "4      ('출시 되다', 1196)\n",
       "            ...       \n",
       "96      ('트럭 시장', 411)\n",
       "97      ('세계 최초', 406)\n",
       "98      ('탑재 되다', 406)\n",
       "99     ('포함 되어다', 405)\n",
       "100     ('리미 티드', 404)\n",
       "Name: 0, Length: 101, dtype: object"
      ]
     },
     "execution_count": 3,
     "metadata": {},
     "output_type": "execute_result"
    }
   ],
   "source": [
    "ngram100 = ngram['0'].loc[:100]\n",
    "ngram100"
   ]
  },
  {
   "cell_type": "code",
   "execution_count": 5,
   "metadata": {},
   "outputs": [],
   "source": [
    "# nouns # add dict.한다.\n",
    "ngrams = ['픽업트럭', '인공지능','자율주행','콘티넨탈','트레일블레이저','파워트레인','미국시장','기술개발',\\\n",
    "         '살균소독','리미티트','세계최초','코로나바이러스','메르세데스벤츠','포드익스플로러','자동차유리','트럼프대통령',\\\n",
    "        '자동차시장','트럭시장','리미티드']"
   ]
  },
  {
   "cell_type": "code",
   "execution_count": 6,
   "metadata": {},
   "outputs": [
    {
     "data": {
      "text/plain": [
       "\"('픽업 트럭', 2549)\""
      ]
     },
     "execution_count": 6,
     "metadata": {},
     "output_type": "execute_result"
    }
   ],
   "source": [
    "ngram100[0]"
   ]
  },
  {
   "cell_type": "code",
   "execution_count": 7,
   "metadata": {},
   "outputs": [],
   "source": [
    "revive_ngram100 = []\n",
    "for string in ngram100:\n",
    "    revive_ngram100.append(eval(string))"
   ]
  },
  {
   "cell_type": "code",
   "execution_count": 8,
   "metadata": {},
   "outputs": [
    {
     "data": {
      "text/plain": [
       "(('픽업 트럭', 2549), tuple)"
      ]
     },
     "execution_count": 8,
     "metadata": {},
     "output_type": "execute_result"
    }
   ],
   "source": [
    "revive_ngram100[0], type(revive_ngram100[0])"
   ]
  },
  {
   "cell_type": "code",
   "execution_count": null,
   "metadata": {},
   "outputs": [],
   "source": []
  },
  {
   "cell_type": "code",
   "execution_count": null,
   "metadata": {},
   "outputs": [],
   "source": []
  },
  {
   "cell_type": "markdown",
   "metadata": {},
   "source": [
    "# twitter experiment"
   ]
  },
  {
   "cell_type": "code",
   "execution_count": 9,
   "metadata": {},
   "outputs": [
    {
     "name": "stderr",
     "output_type": "stream",
     "text": [
      "/home/lab14/.conda/envs/moon/lib/python3.6/site-packages/konlpy/tag/_okt.py:16: UserWarning: \"Twitter\" has changed to \"Okt\" since KoNLPy v0.4.5.\n",
      "  warn('\"Twitter\" has changed to \"Okt\" since KoNLPy v0.4.5.')\n"
     ]
    },
    {
     "data": {
      "text/plain": [
       "[('아이오', 'Noun'), ('아이', 'Noun'), ('좋아요', 'Adjective')]"
      ]
     },
     "execution_count": 9,
     "metadata": {},
     "output_type": "execute_result"
    }
   ],
   "source": [
    "from ckonlpy.tag import Twitter\n",
    "twitter = Twitter()\n",
    "\n",
    "twitter.pos(\"아이오아이좋아요\")"
   ]
  },
  {
   "cell_type": "code",
   "execution_count": 11,
   "metadata": {},
   "outputs": [],
   "source": [
    "twitter.add_dictionary(\"아이오아이\", \"Noun\")"
   ]
  },
  {
   "cell_type": "code",
   "execution_count": 12,
   "metadata": {},
   "outputs": [
    {
     "data": {
      "text/plain": [
       "[('아이오아이', 'Noun'),\n",
       " (',', 'Punctuation'),\n",
       " ('트와이스', 'Noun'),\n",
       " ('의', 'Josa'),\n",
       " ('tt', 'Alpha'),\n",
       " ('좋아요', 'Adjective')]"
      ]
     },
     "execution_count": 12,
     "metadata": {},
     "output_type": "execute_result"
    }
   ],
   "source": [
    "twitter.pos(\"아이오아이,트와이스의tt좋아요\")"
   ]
  },
  {
   "cell_type": "code",
   "execution_count": 13,
   "metadata": {},
   "outputs": [],
   "source": [
    "twitter.add_dictionary(['트와이스', 'tt'], 'Noun')"
   ]
  },
  {
   "cell_type": "code",
   "execution_count": 14,
   "metadata": {},
   "outputs": [
    {
     "data": {
      "text/plain": [
       "[('아이오아이', 'Noun'),\n",
       " (',', 'Punctuation'),\n",
       " ('트와이스', 'Noun'),\n",
       " ('의', 'Josa'),\n",
       " ('tt', 'Noun'),\n",
       " ('좋아요', 'Adjective')]"
      ]
     },
     "execution_count": 14,
     "metadata": {},
     "output_type": "execute_result"
    }
   ],
   "source": [
    "twitter.pos(\"아이오아이,트와이스의tt좋아요\")"
   ]
  },
  {
   "cell_type": "code",
   "execution_count": 15,
   "metadata": {},
   "outputs": [
    {
     "data": {
      "text/plain": [
       "[('nanWINBO', 'Alpha'),\n",
       " ('는', 'Verb'),\n",
       " ('1994년', 'Number'),\n",
       " ('설립', 'Noun'),\n",
       " ('되어졌으며', 'Verb'),\n",
       " ('자동차', 'Noun'),\n",
       " ('악세', 'Adjective'),\n",
       " ('서리', 'Noun'),\n",
       " ('를', 'Josa'),\n",
       " ('생산', 'Noun'),\n",
       " ('하는', 'Verb'),\n",
       " ('세계', 'Noun'),\n",
       " ('최대', 'Noun'),\n",
       " ('의', 'Josa'),\n",
       " ('회사', 'Noun'),\n",
       " ('중', 'Noun'),\n",
       " ('하나', 'Noun'),\n",
       " ('이며', 'Josa'),\n",
       " ('특히', 'Adverb'),\n",
       " ('SUV', 'Alpha'),\n",
       " ('그리', 'Adverb'),\n",
       " ('고', 'Noun'),\n",
       " ('픽업', 'Noun'),\n",
       " ('트럭', 'Noun'),\n",
       " ('에', 'Josa'),\n",
       " ('많은', 'Adjective'),\n",
       " ('특허', 'Noun'),\n",
       " ('와', 'Josa'),\n",
       " ('경험', 'Noun'),\n",
       " ('을', 'Josa'),\n",
       " ('가지', 'Noun'),\n",
       " ('고', 'Josa'),\n",
       " ('있습니다', 'Adjective'),\n",
       " ('전세계', 'Noun'),\n",
       " ('에', 'Josa'),\n",
       " ('3000', 'Number'),\n",
       " ('명', 'Noun'),\n",
       " ('이상', 'Noun'),\n",
       " ('의', 'Josa'),\n",
       " ('직원', 'Noun'),\n",
       " ('이', 'Josa'),\n",
       " ('근무', 'Noun'),\n",
       " ('하고', 'Josa'),\n",
       " ('TOYOTA', 'Alpha'),\n",
       " ('HONDA', 'Alpha'),\n",
       " ('NISSAN', 'Alpha'),\n",
       " ('GM', 'Alpha'),\n",
       " ('FORD', 'Alpha'),\n",
       " ('JEEP', 'Alpha'),\n",
       " ('VOLKSWAGEN', 'Alpha'),\n",
       " ('등', 'Noun'),\n",
       " ('많은', 'Adjective'),\n",
       " ('자동차', 'Noun'),\n",
       " ('제조', 'Noun'),\n",
       " ('회사', 'Noun'),\n",
       " ('에', 'Josa'),\n",
       " ('OEM', 'Alpha'),\n",
       " ('제품', 'Noun'),\n",
       " ('을', 'Josa'),\n",
       " ('공급', 'Noun'),\n",
       " ('하고', 'Josa'),\n",
       " ('있습니다', 'Adjective'),\n",
       " ('윈', 'Noun'),\n",
       " ('보오', 'Noun'),\n",
       " ('토', 'Noun'),\n",
       " ('모티브', 'Noun'),\n",
       " ('코리아', 'Noun'),\n",
       " ('주는', 'Verb'),\n",
       " ('세계', 'Noun'),\n",
       " ('최대', 'Noun'),\n",
       " ('SUV', 'Alpha'),\n",
       " ('그리', 'Adverb'),\n",
       " ('고', 'Noun'),\n",
       " ('픽업', 'Noun'),\n",
       " ('트럭', 'Noun'),\n",
       " ('의', 'Josa'),\n",
       " ('악세', 'Adjective'),\n",
       " ('서리', 'Noun'),\n",
       " ('제조', 'Noun'),\n",
       " ('회사', 'Noun'),\n",
       " ('인', 'Josa'),\n",
       " ('WINBO', 'Alpha'),\n",
       " ('의', 'Noun'),\n",
       " ('한국', 'Noun'),\n",
       " ('공식', 'Noun'),\n",
       " ('수입', 'Noun'),\n",
       " ('판매원', 'Noun'),\n",
       " ('입니다', 'Adjective'),\n",
       " ('폭스바겐', 'Noun'),\n",
       " ('티', 'Noun'),\n",
       " ('구안', 'Noun'),\n",
       " ('올', 'Verb'),\n",
       " ('스페이스', 'Noun'),\n",
       " ('사이드', 'Noun'),\n",
       " ('스텝', 'Noun'),\n",
       " ('WINBO', 'Alpha'),\n",
       " ('정품', 'Noun'),\n",
       " ('제품', 'Noun'),\n",
       " ('안내', 'Noun'),\n",
       " ('WINBO', 'Alpha'),\n",
       " ('는', 'Verb'),\n",
       " ('전세계', 'Noun'),\n",
       " ('의', 'Josa'),\n",
       " ('많은', 'Adjective'),\n",
       " ('회사', 'Noun'),\n",
       " ('에', 'Josa'),\n",
       " ('최고', 'Noun'),\n",
       " ('품질', 'Noun'),\n",
       " ('의', 'Josa'),\n",
       " ('제품', 'Noun'),\n",
       " ('을', 'Josa'),\n",
       " ('OEM', 'Alpha'),\n",
       " ('공급', 'Noun'),\n",
       " ('합니다', 'Verb'),\n",
       " ('TAC', 'Alpha'),\n",
       " ('는', 'Verb'),\n",
       " ('미국', 'Noun'),\n",
       " ('내', 'Noun'),\n",
       " ('최대', 'Noun'),\n",
       " ('악세', 'Adjective'),\n",
       " ('서리', 'Noun'),\n",
       " ('회사', 'Noun'),\n",
       " ('로써', 'Noun'),\n",
       " ('WINBO', 'Alpha'),\n",
       " ('로부터', 'Noun'),\n",
       " ('최고', 'Noun'),\n",
       " ('품질', 'Noun'),\n",
       " ('의', 'Josa'),\n",
       " ('제품', 'Noun'),\n",
       " ('을', 'Josa'),\n",
       " ('OEM', 'Alpha'),\n",
       " ('공급', 'Noun'),\n",
       " ('받고', 'Verb'),\n",
       " ('있습니다', 'Adjective'),\n",
       " ('제품', 'Noun'),\n",
       " ('구입', 'Noun'),\n",
       " ('및', 'Noun'),\n",
       " ('설치', 'Noun'),\n",
       " ('문의', 'Noun'),\n",
       " ('윈', 'Noun'),\n",
       " ('보오', 'Noun'),\n",
       " ('토', 'Noun'),\n",
       " ('모티브', 'Noun'),\n",
       " ('코리아', 'Noun'),\n",
       " ('0234540315', 'Number'),\n",
       " ('WINBO', 'Alpha'),\n",
       " ('KOREA', 'Alpha'),\n",
       " ('홈페이지', 'Noun'),\n",
       " ('네이버', 'Noun'),\n",
       " ('스마트', 'Noun'),\n",
       " ('스토어', 'Noun')]"
      ]
     },
     "execution_count": 15,
     "metadata": {},
     "output_type": "execute_result"
    }
   ],
   "source": [
    "twitter.pos('nanWINBO 는 1994년 설립되어졌으며 자동차 악세서리를 생산하는 세계 최대의 회사 중 하나이며 특히 SUV 그리고 픽업트럭에 많은 특허와 경험을 가지고 있습니다 전세계에 3000명 이상의 직원이 근무하고 TOYOTA HONDA NISSAN GM FORD JEEP VOLKSWAGEN 등 많은 자동차 제조회사에 OEM 제품을 공급하고 있습니다 윈보오토모티브코리아주는 세계 최대 SUV 그리고 픽업트럭의 악세서리 제조회사인 WINBO 의 한국공식수입판매원입니다폭스바겐 티구안 올스페이스 사이드스텝 WINBO 정품 제품 안내WINBO 는 전세계의 많은 회사에 최고 품질의 제품을 OEM 공급합니다 TAC 는 미국내 최대 악세서리 회사로써 WINBO 로부터 최고 품질의 제품을 OEM 공급받고 있습니다제품 구입 및 설치 문의 윈보오토모티브코리아 0234540315WINBO KOREA 홈페이지 네이버 스마트스토어  ')"
   ]
  },
  {
   "cell_type": "code",
   "execution_count": 16,
   "metadata": {},
   "outputs": [],
   "source": [
    "twitter.add_dictionary('픽업트럭','Noun')"
   ]
  },
  {
   "cell_type": "code",
   "execution_count": 17,
   "metadata": {},
   "outputs": [
    {
     "data": {
      "text/plain": [
       "[('nanWINBO', 'Alpha'),\n",
       " ('는', 'Verb'),\n",
       " ('1994년', 'Number'),\n",
       " ('설립', 'Noun'),\n",
       " ('되어졌으며', 'Verb'),\n",
       " ('자동차', 'Noun'),\n",
       " ('악세', 'Adjective'),\n",
       " ('서리', 'Noun'),\n",
       " ('를', 'Josa'),\n",
       " ('생산', 'Noun'),\n",
       " ('하는', 'Verb'),\n",
       " ('세계', 'Noun'),\n",
       " ('최대', 'Noun'),\n",
       " ('의', 'Josa'),\n",
       " ('회사', 'Noun'),\n",
       " ('중', 'Noun'),\n",
       " ('하나', 'Noun'),\n",
       " ('이며', 'Josa'),\n",
       " ('특히', 'Adverb'),\n",
       " ('SUV', 'Alpha'),\n",
       " ('그리', 'Adverb'),\n",
       " ('고', 'Noun'),\n",
       " ('픽업트럭', 'Noun'),\n",
       " ('에', 'Josa'),\n",
       " ('많은', 'Adjective'),\n",
       " ('특허', 'Noun'),\n",
       " ('와', 'Josa'),\n",
       " ('경험', 'Noun'),\n",
       " ('을', 'Josa'),\n",
       " ('가지', 'Noun'),\n",
       " ('고', 'Josa'),\n",
       " ('있습니다', 'Adjective'),\n",
       " ('전세계', 'Noun'),\n",
       " ('에', 'Josa'),\n",
       " ('3000', 'Number'),\n",
       " ('명', 'Noun'),\n",
       " ('이상', 'Noun'),\n",
       " ('의', 'Josa'),\n",
       " ('직원', 'Noun'),\n",
       " ('이', 'Josa'),\n",
       " ('근무', 'Noun'),\n",
       " ('하고', 'Josa'),\n",
       " ('TOYOTA', 'Alpha'),\n",
       " ('HONDA', 'Alpha'),\n",
       " ('NISSAN', 'Alpha'),\n",
       " ('GM', 'Alpha'),\n",
       " ('FORD', 'Alpha'),\n",
       " ('JEEP', 'Alpha'),\n",
       " ('VOLKSWAGEN', 'Alpha'),\n",
       " ('등', 'Noun'),\n",
       " ('많은', 'Adjective'),\n",
       " ('자동차', 'Noun'),\n",
       " ('제조', 'Noun'),\n",
       " ('회사', 'Noun'),\n",
       " ('에', 'Josa'),\n",
       " ('OEM', 'Alpha'),\n",
       " ('제품', 'Noun'),\n",
       " ('을', 'Josa'),\n",
       " ('공급', 'Noun'),\n",
       " ('하고', 'Josa'),\n",
       " ('있습니다', 'Adjective'),\n",
       " ('윈', 'Noun'),\n",
       " ('보오', 'Noun'),\n",
       " ('토', 'Noun'),\n",
       " ('모티브', 'Noun'),\n",
       " ('코리아', 'Noun'),\n",
       " ('주는', 'Verb'),\n",
       " ('세계', 'Noun'),\n",
       " ('최대', 'Noun'),\n",
       " ('SUV', 'Alpha'),\n",
       " ('그리', 'Adverb'),\n",
       " ('고', 'Noun'),\n",
       " ('픽업트럭', 'Noun'),\n",
       " ('의', 'Josa'),\n",
       " ('악세', 'Adjective'),\n",
       " ('서리', 'Noun'),\n",
       " ('제조', 'Noun'),\n",
       " ('회사', 'Noun'),\n",
       " ('인', 'Josa'),\n",
       " ('WINBO', 'Alpha'),\n",
       " ('의', 'Noun'),\n",
       " ('한국', 'Noun'),\n",
       " ('공식', 'Noun'),\n",
       " ('수입', 'Noun'),\n",
       " ('판매원', 'Noun'),\n",
       " ('입니다', 'Adjective'),\n",
       " ('폭스바겐', 'Noun'),\n",
       " ('티', 'Noun'),\n",
       " ('구안', 'Noun'),\n",
       " ('올', 'Verb'),\n",
       " ('스페이스', 'Noun'),\n",
       " ('사이드', 'Noun'),\n",
       " ('스텝', 'Noun'),\n",
       " ('WINBO', 'Alpha'),\n",
       " ('정품', 'Noun'),\n",
       " ('제품', 'Noun'),\n",
       " ('안내', 'Noun'),\n",
       " ('WINBO', 'Alpha'),\n",
       " ('는', 'Verb'),\n",
       " ('전세계', 'Noun'),\n",
       " ('의', 'Josa'),\n",
       " ('많은', 'Adjective'),\n",
       " ('회사', 'Noun'),\n",
       " ('에', 'Josa'),\n",
       " ('최고', 'Noun'),\n",
       " ('품질', 'Noun'),\n",
       " ('의', 'Josa'),\n",
       " ('제품', 'Noun'),\n",
       " ('을', 'Josa'),\n",
       " ('OEM', 'Alpha'),\n",
       " ('공급', 'Noun'),\n",
       " ('합니다', 'Verb'),\n",
       " ('TAC', 'Alpha'),\n",
       " ('는', 'Verb'),\n",
       " ('미국', 'Noun'),\n",
       " ('내', 'Noun'),\n",
       " ('최대', 'Noun'),\n",
       " ('악세', 'Adjective'),\n",
       " ('서리', 'Noun'),\n",
       " ('회사', 'Noun'),\n",
       " ('로써', 'Noun'),\n",
       " ('WINBO', 'Alpha'),\n",
       " ('로부터', 'Noun'),\n",
       " ('최고', 'Noun'),\n",
       " ('품질', 'Noun'),\n",
       " ('의', 'Josa'),\n",
       " ('제품', 'Noun'),\n",
       " ('을', 'Josa'),\n",
       " ('OEM', 'Alpha'),\n",
       " ('공급', 'Noun'),\n",
       " ('받고', 'Verb'),\n",
       " ('있습니다', 'Adjective'),\n",
       " ('제품', 'Noun'),\n",
       " ('구입', 'Noun'),\n",
       " ('및', 'Noun'),\n",
       " ('설치', 'Noun'),\n",
       " ('문의', 'Noun'),\n",
       " ('윈', 'Noun'),\n",
       " ('보오', 'Noun'),\n",
       " ('토', 'Noun'),\n",
       " ('모티브', 'Noun'),\n",
       " ('코리아', 'Noun'),\n",
       " ('0234540315', 'Number'),\n",
       " ('WINBO', 'Alpha'),\n",
       " ('KOREA', 'Alpha'),\n",
       " ('홈페이지', 'Noun'),\n",
       " ('네이버', 'Noun'),\n",
       " ('스마트', 'Noun'),\n",
       " ('스토어', 'Noun')]"
      ]
     },
     "execution_count": 17,
     "metadata": {},
     "output_type": "execute_result"
    }
   ],
   "source": [
    "twitter.pos('nanWINBO 는 1994년 설립되어졌으며 자동차 악세서리를 생산하는 세계 최대의 회사 중 하나이며 특히 SUV 그리고 픽업트럭에 많은 특허와 경험을 가지고 있습니다 전세계에 3000명 이상의 직원이 근무하고 TOYOTA HONDA NISSAN GM FORD JEEP VOLKSWAGEN 등 많은 자동차 제조회사에 OEM 제품을 공급하고 있습니다 윈보오토모티브코리아주는 세계 최대 SUV 그리고 픽업트럭의 악세서리 제조회사인 WINBO 의 한국공식수입판매원입니다폭스바겐 티구안 올스페이스 사이드스텝 WINBO 정품 제품 안내WINBO 는 전세계의 많은 회사에 최고 품질의 제품을 OEM 공급합니다 TAC 는 미국내 최대 악세서리 회사로써 WINBO 로부터 최고 품질의 제품을 OEM 공급받고 있습니다제품 구입 및 설치 문의 윈보오토모티브코리아 0234540315WINBO KOREA 홈페이지 네이버 스마트스토어  ')"
   ]
  },
  {
   "cell_type": "markdown",
   "metadata": {},
   "source": [
    "## one more example"
   ]
  },
  {
   "cell_type": "code",
   "execution_count": 18,
   "metadata": {},
   "outputs": [
    {
     "data": {
      "text/plain": [
       "[('TJCAR', 'Alpha'),\n",
       " ('티', 'Noun'),\n",
       " ('제이', 'Noun'),\n",
       " ('카', 'Noun'),\n",
       " ('쉐보레', 'Noun'),\n",
       " ('트레일', 'Noun'),\n",
       " ('블', 'Noun'),\n",
       " ('레이저', 'Noun'),\n",
       " ('SOLAR', 'Alpha'),\n",
       " ('GARD', 'Alpha'),\n",
       " ('SATURN', 'Alpha'),\n",
       " ('3010', 'Number'),\n",
       " ('티', 'Noun'),\n",
       " ('제이', 'Noun'),\n",
       " ('카', 'Noun')]"
      ]
     },
     "execution_count": 18,
     "metadata": {},
     "output_type": "execute_result"
    }
   ],
   "source": [
    "twitter.pos('TJCAR 티제이카 쉐보레 트레일블레이저 SOLAR GARD SATURN 3010 티제이카  ')"
   ]
  },
  {
   "cell_type": "code",
   "execution_count": 19,
   "metadata": {},
   "outputs": [],
   "source": [
    "twitter.add_dictionary('트레일블레이저','Noun')"
   ]
  },
  {
   "cell_type": "code",
   "execution_count": 20,
   "metadata": {},
   "outputs": [
    {
     "data": {
      "text/plain": [
       "[('TJCAR', 'Alpha'),\n",
       " ('티', 'Noun'),\n",
       " ('제이', 'Noun'),\n",
       " ('카', 'Noun'),\n",
       " ('쉐보레', 'Noun'),\n",
       " ('트레일블레이저', 'Noun'),\n",
       " ('SOLAR', 'Alpha'),\n",
       " ('GARD', 'Alpha'),\n",
       " ('SATURN', 'Alpha'),\n",
       " ('3010', 'Number'),\n",
       " ('티', 'Noun'),\n",
       " ('제이', 'Noun'),\n",
       " ('카', 'Noun')]"
      ]
     },
     "execution_count": 20,
     "metadata": {},
     "output_type": "execute_result"
    }
   ],
   "source": [
    "twitter.pos('TJCAR 티제이카 쉐보레 트레일블레이저 SOLAR GARD SATURN 3010 티제이카  ')"
   ]
  },
  {
   "cell_type": "code",
   "execution_count": 21,
   "metadata": {},
   "outputs": [],
   "source": [
    "test= '안녕하십니까. my NAME IS MOOn'"
   ]
  },
  {
   "cell_type": "code",
   "execution_count": 22,
   "metadata": {},
   "outputs": [],
   "source": [
    "from nltk.tokenize import sent_tokenize\n",
    "import pandas as pd\n",
    "import re"
   ]
  },
  {
   "cell_type": "code",
   "execution_count": 23,
   "metadata": {},
   "outputs": [
    {
     "data": {
      "text/plain": [
       "'안녕하십니까. my name is moon'"
      ]
     },
     "execution_count": 23,
     "metadata": {},
     "output_type": "execute_result"
    }
   ],
   "source": [
    "test.lower()"
   ]
  },
  {
   "cell_type": "code",
   "execution_count": null,
   "metadata": {},
   "outputs": [],
   "source": []
  }
 ],
 "metadata": {
  "kernelspec": {
   "display_name": "moon",
   "language": "python",
   "name": "moon"
  },
  "language_info": {
   "codemirror_mode": {
    "name": "ipython",
    "version": 3
   },
   "file_extension": ".py",
   "mimetype": "text/x-python",
   "name": "python",
   "nbconvert_exporter": "python",
   "pygments_lexer": "ipython3",
   "version": "3.6.12"
  }
 },
 "nbformat": 4,
 "nbformat_minor": 4
}
